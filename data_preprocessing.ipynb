{
 "cells": [
  {
   "cell_type": "code",
   "execution_count": 1,
   "id": "7e9f7bcb",
   "metadata": {},
   "outputs": [
    {
     "name": "stderr",
     "output_type": "stream",
     "text": [
      "C:\\Users\\josep\\AppData\\Local\\Temp\\ipykernel_19160\\2384280357.py:1: DeprecationWarning: \n",
      "Pyarrow will become a required dependency of pandas in the next major release of pandas (pandas 3.0),\n",
      "(to allow more performant data types, such as the Arrow string type, and better interoperability with other libraries)\n",
      "but was not found to be installed on your system.\n",
      "If this would cause problems for you,\n",
      "please provide us feedback at https://github.com/pandas-dev/pandas/issues/54466\n",
      "        \n",
      "  import pandas as pd\n"
     ]
    }
   ],
   "source": [
    "import pandas as pd\n",
    "import seaborn as sns\n",
    "import matplotlib.pyplot as plt\n",
    "data_orig = pd.read_csv('USGovtRevCollect_20041001_20231227.csv')"
   ]
  },
  {
   "cell_type": "code",
   "execution_count": 2,
   "id": "017eba02",
   "metadata": {},
   "outputs": [
    {
     "name": "stdout",
     "output_type": "stream",
     "text": [
      "<class 'pandas.core.frame.DataFrame'>\n",
      "RangeIndex: 81248 entries, 0 to 81247\n",
      "Data columns (total 15 columns):\n",
      " #   Column                           Non-Null Count  Dtype  \n",
      "---  ------                           --------------  -----  \n",
      " 0   Record Date                      81248 non-null  object \n",
      " 1   Electronic Category Description  81248 non-null  object \n",
      " 2   Channel Type Description         81248 non-null  object \n",
      " 3   Tax Category Description         81248 non-null  object \n",
      " 4   Net Collections Amount           81248 non-null  float64\n",
      " 5   Electronic Category ID           81248 non-null  int64  \n",
      " 6   Channel Type ID                  81248 non-null  int64  \n",
      " 7   Tax Category ID                  81248 non-null  int64  \n",
      " 8   Source Line Number               81248 non-null  int64  \n",
      " 9   Fiscal Year                      81248 non-null  int64  \n",
      " 10  Fiscal Quarter Number            81248 non-null  int64  \n",
      " 11  Calendar Year                    81248 non-null  int64  \n",
      " 12  Calendar Quarter Number          81248 non-null  int64  \n",
      " 13  Calendar Month Number            81248 non-null  int64  \n",
      " 14  Calendar Day Number              81248 non-null  int64  \n",
      "dtypes: float64(1), int64(10), object(4)\n",
      "memory usage: 9.3+ MB\n"
     ]
    }
   ],
   "source": [
    "df = data_orig\n",
    "\n",
    "df.isnull().sum()\n",
    "df.drop_duplicates(inplace=True)\n",
    "\n",
    "df.info()"
   ]
  },
  {
   "cell_type": "code",
   "execution_count": 3,
   "id": "0d2f6628",
   "metadata": {},
   "outputs": [
    {
     "name": "stdout",
     "output_type": "stream",
     "text": [
      "year match = True\n",
      "month match = True\n",
      "day match = True\n",
      "quarter match = True\n"
     ]
    }
   ],
   "source": [
    "df['Record Date'] = pd.to_datetime(df['Record Date'])\n",
    "record_date = df['Record Date'].dt\n",
    "record_year = record_date.year\n",
    "record_month = record_date.month\n",
    "record_day = record_date.day\n",
    "record_quarter = record_date.quarter\n",
    "\n",
    "year_match = (record_year == df['Calendar Year']).all()\n",
    "month_match = (record_month == df['Calendar Month Number']).all()\n",
    "day_match = (record_day == df['Calendar Day Number']).all()\n",
    "quarter_match = (record_quarter == df['Calendar Quarter Number']).all()\n",
    "print(\"year match =\", year_match)\n",
    "print(\"month match =\", month_match)\n",
    "print(\"day match =\", day_match)\n",
    "print(\"quarter match =\", quarter_match)"
   ]
  },
  {
   "cell_type": "markdown",
   "id": "ce596f6c",
   "metadata": {},
   "source": [
    "There is 'Record Date' in the data, and there are also 'Calendar Year, Month, Day, Quarter' respectively.  \n",
    "After checking, they are the same, so one of them can be removed."
   ]
  },
  {
   "cell_type": "code",
   "execution_count": 4,
   "id": "e886de8e",
   "metadata": {},
   "outputs": [
    {
     "name": "stdout",
     "output_type": "stream",
     "text": [
      "Date Diff\n",
      "0.0    76414\n",
      "1.0     3779\n",
      "2.0       50\n",
      "3.0      869\n",
      "4.0      135\n",
      "Name: count, dtype: int64\n"
     ]
    }
   ],
   "source": [
    "df_sorted = df.sort_values(by='Record Date')\n",
    "df_sorted['Date Diff'] = df_sorted['Record Date'].diff().dt.days\n",
    "date_diff = df_sorted['Date Diff'].value_counts().sort_index()\n",
    "print(date_diff)"
   ]
  },
  {
   "cell_type": "markdown",
   "id": "86b8423e",
   "metadata": {},
   "source": [
    "By looking at the number of days between adjacent record dates,  \n",
    "we found that the interval between most dates is 0 or 1  \n",
    "and the largest interval is only 4 days. \n",
    "This shows that the dates are continuous and we don't need to remap them"
   ]
  },
  {
   "cell_type": "code",
   "execution_count": 5,
   "id": "696a0410",
   "metadata": {},
   "outputs": [
    {
     "name": "stdout",
     "output_type": "stream",
     "text": [
      "Fiscal Quarter Number     1     2     3     4\n",
      "Fiscal Year                                  \n",
      "2005                   1093  1096  1219  1293\n",
      "2006                   1219  1237  1281  1266\n",
      "2007                   1258  1292  1364  1341\n",
      "2008                   1253  1160  1195  1202\n",
      "2009                   1129  1098  1149  1170\n",
      "2010                   1101  1081  1128  1139\n",
      "2011                   1146  1148  1198  1250\n",
      "2012                   1181  1154  1177  1144\n",
      "2013                   1064  1087  1181  1165\n",
      "2014                   1107   995  1029  1040\n",
      "2015                    993   977  1024  1049\n",
      "2016                   1001   988  1024  1038\n",
      "2017                    975   979   992   974\n",
      "2018                    926   947   996   973\n",
      "2019                    943   927   984   947\n",
      "2020                    881   868   849   914\n",
      "2021                    862   827   886   886\n",
      "2022                    876   846   859   873\n",
      "2023                    822   862   876   905\n",
      "2024                    869     0     0     0\n",
      "Standard deviation = 142.41298382903693\n"
     ]
    }
   ],
   "source": [
    "fiscal_date = df.groupby(['Fiscal Year', 'Fiscal Quarter Number']).size()\n",
    "fiscal_date_unstack = fiscal_date.unstack(fill_value=0)\n",
    "print(fiscal_date_unstack)\n",
    "fiscal_date_std = fiscal_date.std()\n",
    "print(\"Standard deviation =\", fiscal_date_std)"
   ]
  },
  {
   "cell_type": "markdown",
   "id": "dc5f64b6",
   "metadata": {},
   "source": [
    "// comment:  The federal government's fiscal year runs from October 1 to September 30.  \n",
    "Through observation, we found that the standard deviation of the statiscal numbers in different fiscal quarters is not large  \n",
    "which shows that the number of records in different fiscals is relatively evenly distributed  \n",
    "we can use this data for analysis without cleaning"
   ]
  },
  {
   "cell_type": "code",
   "execution_count": 6,
   "id": "9fe8776c",
   "metadata": {},
   "outputs": [
    {
     "data": {
      "text/plain": [
       "Electronic Category Description\n",
       "Electronic Settlement     12466\n",
       "Fully Electronic - All    31609\n",
       "Fully Electronic - FS     14129\n",
       "Non-Electronic            23044\n",
       "dtype: int64"
      ]
     },
     "execution_count": 6,
     "metadata": {},
     "output_type": "execute_result"
    }
   ],
   "source": [
    "df.groupby('Electronic Category Description').size()"
   ]
  },
  {
   "cell_type": "code",
   "execution_count": 7,
   "id": "6fe51d7c",
   "metadata": {},
   "outputs": [
    {
     "data": {
      "text/plain": [
       "Channel Type Description\n",
       "Bank                      12443\n",
       "Internet                  13911\n",
       "Mail                      20345\n",
       "Other                        66\n",
       "Over-the-Counter (OTC)    34483\n",
       "dtype: int64"
      ]
     },
     "execution_count": 7,
     "metadata": {},
     "output_type": "execute_result"
    }
   ],
   "source": [
    "df.groupby('Channel Type Description').size()"
   ]
  },
  {
   "cell_type": "code",
   "execution_count": 8,
   "id": "5f37ad51",
   "metadata": {},
   "outputs": [
    {
     "data": {
      "text/plain": [
       "Tax Category Description\n",
       "IRS Non-Tax    18545\n",
       "IRS Tax        24843\n",
       "Non-Tax        37860\n",
       "dtype: int64"
      ]
     },
     "execution_count": 8,
     "metadata": {},
     "output_type": "execute_result"
    }
   ],
   "source": [
    "df.groupby('Tax Category Description').size()"
   ]
  },
  {
   "cell_type": "markdown",
   "id": "0f0e2ce7",
   "metadata": {},
   "source": [
    "There are a few categories in these three strings 'Electronic Category Description', 'Channel Type Description', and 'Tax Category Description'  \n",
    "We don't know how it contributes to our goals for the time being  \n",
    "so we first assume that they are independent and use IDs"
   ]
  },
  {
   "cell_type": "code",
   "execution_count": 9,
   "id": "ea889786",
   "metadata": {},
   "outputs": [
    {
     "data": {
      "text/plain": [
       "Source Line Number\n",
       "1     4834\n",
       "2     4834\n",
       "3     4834\n",
       "4     4834\n",
       "5     4834\n",
       "6     4834\n",
       "7     4834\n",
       "8     4834\n",
       "9     4834\n",
       "10    4834\n",
       "11    4834\n",
       "12    4828\n",
       "13    4790\n",
       "14    4465\n",
       "15    3947\n",
       "16    3336\n",
       "17    2427\n",
       "18    2026\n",
       "19    1201\n",
       "20     657\n",
       "21     303\n",
       "22      92\n",
       "23       2\n",
       "dtype: int64"
      ]
     },
     "execution_count": 9,
     "metadata": {},
     "output_type": "execute_result"
    }
   ],
   "source": [
    "df.groupby('Source Line Number').size()"
   ]
  },
  {
   "cell_type": "markdown",
   "id": "c2de9679",
   "metadata": {},
   "source": [
    "// comments: Indicates the row of the corresponding table where the data point can be found.  \n",
    "This data seems not stronly related to our goals  \n",
    "If we want fewer features, maybe ignore it for now"
   ]
  },
  {
   "cell_type": "code",
   "execution_count": 10,
   "id": "b99b7a5e",
   "metadata": {},
   "outputs": [
    {
     "data": {
      "text/html": [
       "<div>\n",
       "<style scoped>\n",
       "    .dataframe tbody tr th:only-of-type {\n",
       "        vertical-align: middle;\n",
       "    }\n",
       "\n",
       "    .dataframe tbody tr th {\n",
       "        vertical-align: top;\n",
       "    }\n",
       "\n",
       "    .dataframe thead th {\n",
       "        text-align: right;\n",
       "    }\n",
       "</style>\n",
       "<table border=\"1\" class=\"dataframe\">\n",
       "  <thead>\n",
       "    <tr style=\"text-align: right;\">\n",
       "      <th></th>\n",
       "      <th>Net Collections Amount</th>\n",
       "      <th>Electronic Category ID</th>\n",
       "      <th>Channel Type ID</th>\n",
       "      <th>Tax Category ID</th>\n",
       "      <th>Fiscal Year</th>\n",
       "      <th>Fiscal Quarter Number</th>\n",
       "      <th>Calendar Year</th>\n",
       "      <th>Calendar Quarter Number</th>\n",
       "      <th>Calendar Month Number</th>\n",
       "      <th>Calendar Day Number</th>\n",
       "      <th>Record Date Discretized</th>\n",
       "    </tr>\n",
       "  </thead>\n",
       "  <tbody>\n",
       "    <tr>\n",
       "      <th>0</th>\n",
       "      <td>7.269500e+02</td>\n",
       "      <td>4</td>\n",
       "      <td>2</td>\n",
       "      <td>1</td>\n",
       "      <td>2024</td>\n",
       "      <td>1</td>\n",
       "      <td>2023</td>\n",
       "      <td>4</td>\n",
       "      <td>12</td>\n",
       "      <td>27</td>\n",
       "      <td>7026</td>\n",
       "    </tr>\n",
       "    <tr>\n",
       "      <th>1</th>\n",
       "      <td>2.431048e+05</td>\n",
       "      <td>3</td>\n",
       "      <td>1</td>\n",
       "      <td>1</td>\n",
       "      <td>2024</td>\n",
       "      <td>1</td>\n",
       "      <td>2023</td>\n",
       "      <td>4</td>\n",
       "      <td>12</td>\n",
       "      <td>27</td>\n",
       "      <td>7026</td>\n",
       "    </tr>\n",
       "    <tr>\n",
       "      <th>2</th>\n",
       "      <td>9.395110e+06</td>\n",
       "      <td>4</td>\n",
       "      <td>1</td>\n",
       "      <td>1</td>\n",
       "      <td>2024</td>\n",
       "      <td>1</td>\n",
       "      <td>2023</td>\n",
       "      <td>4</td>\n",
       "      <td>12</td>\n",
       "      <td>27</td>\n",
       "      <td>7026</td>\n",
       "    </tr>\n",
       "    <tr>\n",
       "      <th>3</th>\n",
       "      <td>4.824105e+04</td>\n",
       "      <td>2</td>\n",
       "      <td>1</td>\n",
       "      <td>2</td>\n",
       "      <td>2024</td>\n",
       "      <td>1</td>\n",
       "      <td>2023</td>\n",
       "      <td>4</td>\n",
       "      <td>12</td>\n",
       "      <td>27</td>\n",
       "      <td>7026</td>\n",
       "    </tr>\n",
       "    <tr>\n",
       "      <th>4</th>\n",
       "      <td>2.905820e+03</td>\n",
       "      <td>1</td>\n",
       "      <td>5</td>\n",
       "      <td>3</td>\n",
       "      <td>2024</td>\n",
       "      <td>1</td>\n",
       "      <td>2023</td>\n",
       "      <td>4</td>\n",
       "      <td>12</td>\n",
       "      <td>27</td>\n",
       "      <td>7026</td>\n",
       "    </tr>\n",
       "    <tr>\n",
       "      <th>...</th>\n",
       "      <td>...</td>\n",
       "      <td>...</td>\n",
       "      <td>...</td>\n",
       "      <td>...</td>\n",
       "      <td>...</td>\n",
       "      <td>...</td>\n",
       "      <td>...</td>\n",
       "      <td>...</td>\n",
       "      <td>...</td>\n",
       "      <td>...</td>\n",
       "      <td>...</td>\n",
       "    </tr>\n",
       "    <tr>\n",
       "      <th>81243</th>\n",
       "      <td>4.838831e+09</td>\n",
       "      <td>1</td>\n",
       "      <td>5</td>\n",
       "      <td>3</td>\n",
       "      <td>2005</td>\n",
       "      <td>1</td>\n",
       "      <td>2004</td>\n",
       "      <td>4</td>\n",
       "      <td>10</td>\n",
       "      <td>1</td>\n",
       "      <td>0</td>\n",
       "    </tr>\n",
       "    <tr>\n",
       "      <th>81244</th>\n",
       "      <td>2.114361e+06</td>\n",
       "      <td>4</td>\n",
       "      <td>5</td>\n",
       "      <td>1</td>\n",
       "      <td>2005</td>\n",
       "      <td>1</td>\n",
       "      <td>2004</td>\n",
       "      <td>4</td>\n",
       "      <td>10</td>\n",
       "      <td>1</td>\n",
       "      <td>0</td>\n",
       "    </tr>\n",
       "    <tr>\n",
       "      <th>81245</th>\n",
       "      <td>1.183413e+07</td>\n",
       "      <td>1</td>\n",
       "      <td>3</td>\n",
       "      <td>1</td>\n",
       "      <td>2005</td>\n",
       "      <td>1</td>\n",
       "      <td>2004</td>\n",
       "      <td>4</td>\n",
       "      <td>10</td>\n",
       "      <td>1</td>\n",
       "      <td>0</td>\n",
       "    </tr>\n",
       "    <tr>\n",
       "      <th>81246</th>\n",
       "      <td>1.921165e+06</td>\n",
       "      <td>2</td>\n",
       "      <td>1</td>\n",
       "      <td>1</td>\n",
       "      <td>2005</td>\n",
       "      <td>1</td>\n",
       "      <td>2004</td>\n",
       "      <td>4</td>\n",
       "      <td>10</td>\n",
       "      <td>1</td>\n",
       "      <td>0</td>\n",
       "    </tr>\n",
       "    <tr>\n",
       "      <th>81247</th>\n",
       "      <td>1.298839e+06</td>\n",
       "      <td>1</td>\n",
       "      <td>2</td>\n",
       "      <td>3</td>\n",
       "      <td>2005</td>\n",
       "      <td>1</td>\n",
       "      <td>2004</td>\n",
       "      <td>4</td>\n",
       "      <td>10</td>\n",
       "      <td>1</td>\n",
       "      <td>0</td>\n",
       "    </tr>\n",
       "  </tbody>\n",
       "</table>\n",
       "<p>81248 rows × 11 columns</p>\n",
       "</div>"
      ],
      "text/plain": [
       "       Net Collections Amount  Electronic Category ID  Channel Type ID  \\\n",
       "0                7.269500e+02                       4                2   \n",
       "1                2.431048e+05                       3                1   \n",
       "2                9.395110e+06                       4                1   \n",
       "3                4.824105e+04                       2                1   \n",
       "4                2.905820e+03                       1                5   \n",
       "...                       ...                     ...              ...   \n",
       "81243            4.838831e+09                       1                5   \n",
       "81244            2.114361e+06                       4                5   \n",
       "81245            1.183413e+07                       1                3   \n",
       "81246            1.921165e+06                       2                1   \n",
       "81247            1.298839e+06                       1                2   \n",
       "\n",
       "       Tax Category ID  Fiscal Year  Fiscal Quarter Number  Calendar Year  \\\n",
       "0                    1         2024                      1           2023   \n",
       "1                    1         2024                      1           2023   \n",
       "2                    1         2024                      1           2023   \n",
       "3                    2         2024                      1           2023   \n",
       "4                    3         2024                      1           2023   \n",
       "...                ...          ...                    ...            ...   \n",
       "81243                3         2005                      1           2004   \n",
       "81244                1         2005                      1           2004   \n",
       "81245                1         2005                      1           2004   \n",
       "81246                1         2005                      1           2004   \n",
       "81247                3         2005                      1           2004   \n",
       "\n",
       "       Calendar Quarter Number  Calendar Month Number  Calendar Day Number  \\\n",
       "0                            4                     12                   27   \n",
       "1                            4                     12                   27   \n",
       "2                            4                     12                   27   \n",
       "3                            4                     12                   27   \n",
       "4                            4                     12                   27   \n",
       "...                        ...                    ...                  ...   \n",
       "81243                        4                     10                    1   \n",
       "81244                        4                     10                    1   \n",
       "81245                        4                     10                    1   \n",
       "81246                        4                     10                    1   \n",
       "81247                        4                     10                    1   \n",
       "\n",
       "       Record Date Discretized  \n",
       "0                         7026  \n",
       "1                         7026  \n",
       "2                         7026  \n",
       "3                         7026  \n",
       "4                         7026  \n",
       "...                        ...  \n",
       "81243                        0  \n",
       "81244                        0  \n",
       "81245                        0  \n",
       "81246                        0  \n",
       "81247                        0  \n",
       "\n",
       "[81248 rows x 11 columns]"
      ]
     },
     "execution_count": 10,
     "metadata": {},
     "output_type": "execute_result"
    }
   ],
   "source": [
    "df_processed = df.copy()\n",
    "min_date = df_processed['Record Date'].min()\n",
    "df_processed['Record Date Discretized'] = (df_processed['Record Date'] - min_date).dt.days\n",
    "df_processed.drop(['Record Date', 'Source Line Number', 'Electronic Category Description', 'Channel Type Description', 'Tax Category Description'], axis=1, inplace=True)\n",
    "df_processed"
   ]
  },
  {
   "cell_type": "markdown",
   "id": "48e62be9",
   "metadata": {},
   "source": [
    "We do the following preprocessing:\n",
    "1. Delete 'Source Line Number', 'Electronic Category Description', 'Channel Type Description', 'Tax Category Description'\n",
    "2. Discretize the Record Date into an integer, because we guess that the target has a polynomial relationship with this number\n",
    "3. Remove the string class and keep only the encoded integers\n",
    "We guessed that fiscal quarter would be an interesting feature, so we kept the information  \n",
    "For record date, we don’t know whether quarter will be related to goals, so we keep the year, month, day, quarter and discretized integers.  \n",
    "\n",
    "But because they are not independent of each other, during actual analysis, there are several options:\n",
    "1. Discretized integers\n",
    "2. year, month, day\n",
    "3. year, quarter\n",
    "4. Others"
   ]
  },
  {
   "cell_type": "code",
   "execution_count": 11,
   "id": "341e5d2b",
   "metadata": {},
   "outputs": [],
   "source": [
    "df_processed.to_csv('data_processed.csv', index=True)"
   ]
  },
  {
   "cell_type": "code",
   "execution_count": null,
   "id": "2a6771be",
   "metadata": {},
   "outputs": [],
   "source": []
  }
 ],
 "metadata": {
  "kernelspec": {
   "display_name": "Python 3 (ipykernel)",
   "language": "python",
   "name": "python3"
  },
  "language_info": {
   "codemirror_mode": {
    "name": "ipython",
    "version": 3
   },
   "file_extension": ".py",
   "mimetype": "text/x-python",
   "name": "python",
   "nbconvert_exporter": "python",
   "pygments_lexer": "ipython3",
   "version": "3.12.1"
  }
 },
 "nbformat": 4,
 "nbformat_minor": 5
}
