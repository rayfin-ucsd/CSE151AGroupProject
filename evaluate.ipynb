{
 "cells": [
  {
   "cell_type": "code",
   "execution_count": 24,
   "id": "4feb7ec5",
   "metadata": {},
   "outputs": [],
   "source": [
    "import numpy as np\n",
    "import pandas as pd\n",
    "from joblib import load\n",
    "from tensorflow.keras.models import load_model\n",
    "from datetime import datetime"
   ]
  },
  {
   "cell_type": "code",
   "execution_count": 6,
   "id": "f570d067",
   "metadata": {},
   "outputs": [],
   "source": [
    "# Load saved models and preprocessors to predict new data\n",
    "X_preprocessor = load('model/X_preprocessor.joblib')\n",
    "y_scaler = load('model/y_scaler.joblib')\n",
    "model = load_model('model/best_model.keras')"
   ]
  },
  {
   "cell_type": "code",
   "execution_count": 98,
   "id": "a6b7439c",
   "metadata": {},
   "outputs": [
    {
     "name": "stdout",
     "output_type": "stream",
     "text": [
      "{'Non-Electronic': 4, 'Electronic Settlement': 3, 'Fully Electronic - FS': 2, 'Fully Electronic - All': 1}\n",
      "{'Mail': 2, 'Over-the-Counter (OTC)': 1, 'Bank': 5, 'Internet': 3, 'Other': 7}\n",
      "{'Non-Tax': 1, 'IRS Non-Tax': 2, 'IRS Tax': 3}\n"
     ]
    }
   ],
   "source": [
    "df = pd.read_csv('USGovtRevCollect_20041001_20231227.csv')\n",
    "electronic_dict = pd.Series(df['Electronic Category ID'].values, index=df['Electronic Category Description']).to_dict()\n",
    "channel_dict = pd.Series(df['Channel Type ID'].values, index=df['Channel Type Description']).to_dict()\n",
    "tax_dict = pd.Series(df['Tax Category ID'].values, index=df['Tax Category Description']).to_dict()\n",
    "base_date = df['Record Date'].min()\n",
    "\n",
    "print(electronic_dict)\n",
    "print(channel_dict)\n",
    "print(tax_dict)\n",
    "\n",
    "def evaluate(electronic_type, channel_type, tax_type, fiscal_year, fiscal_quarter, record_date):\n",
    "    data = pd.DataFrame({})\n",
    "    \n",
    "    if electronic_type not in electronic_dict: return None\n",
    "    else: data['Electronic Category ID'] = [electronic_dict[electronic_type]]\n",
    "        \n",
    "    if channel_type not in channel_dict: return None\n",
    "    else: data['Channel Type ID'] = [channel_dict[channel_type]]\n",
    "        \n",
    "    if tax_type not in tax_dict: return None\n",
    "    else: data['Tax Category ID'] = [tax_dict[tax_type]]\n",
    "    \n",
    "    data['Fiscal Year'] = [fiscal_year]\n",
    "    data['Fiscal Quarter Number'] = [fiscal_quarter]\n",
    "    \n",
    "    try:\n",
    "        date_obj = datetime.strptime(record_date, '%Y-%m-%d')\n",
    "        data['Calendar Quarter Number'] = [(date_obj.month - 1) // 3 + 1]\n",
    "        data['Calendar Month Number'] = [date_obj.month]\n",
    "        basedate_obj = datetime.strptime(base_date, '%Y-%m-%d')\n",
    "        data['Record Date Discretized'] = [(date_obj - basedate_obj).days]\n",
    "    except ValueError:\n",
    "        return None\n",
    "\n",
    "    X = X_preprocessor.transform(data)\n",
    "    X = np.array(X.todense())\n",
    "    prediction = model.predict(X)\n",
    "    prediction = y_scaler.inverse_transform(prediction)\n",
    "    return prediction"
   ]
  },
  {
   "cell_type": "code",
   "execution_count": 112,
   "id": "56cd51d3",
   "metadata": {},
   "outputs": [
    {
     "name": "stdout",
     "output_type": "stream",
     "text": [
      "1/1 [==============================] - 0s 9ms/step\n",
      "\n",
      "Predicted Net Collections Amount = 17446742000.0\n"
     ]
    }
   ],
   "source": [
    "# electronic_type = {\n",
    "#     'Fully Electronic - All': 1,\n",
    "#     'Fully Electronic - FS': 2,\n",
    "#     'Electronic Settlement': 3,\n",
    "#     'Non-Electronic': 4,\n",
    "# }\n",
    "# channel_type = {\n",
    "#     'Over-the-Counter (OTC)': 1,\n",
    "#     'Mail': 2,\n",
    "#     'Internet': 3,\n",
    "#     'Bank': 5,\n",
    "#     'Other': 7,\n",
    "# }\n",
    "# tax_type = {\n",
    "#     'Non-Tax': 1,\n",
    "#     'IRS Non-Tax': 2,\n",
    "#     'IRS Tax': 3\n",
    "# }\n",
    "\n",
    "result = evaluate(\n",
    "    electronic_type='Fully Electronic - All',\n",
    "    channel_type='Internet',\n",
    "    tax_type='IRS Tax',\n",
    "    fiscal_year=2025,\n",
    "    fiscal_quarter=2,\n",
    "    record_date='2025-2-20'\n",
    ")\n",
    "print('\\nPredicted Net Collections Amount =', result[0][0])"
   ]
  }
 ],
 "metadata": {
  "kernelspec": {
   "display_name": "Python 3 (ipykernel)",
   "language": "python",
   "name": "python3"
  },
  "language_info": {
   "codemirror_mode": {
    "name": "ipython",
    "version": 3
   },
   "file_extension": ".py",
   "mimetype": "text/x-python",
   "name": "python",
   "nbconvert_exporter": "python",
   "pygments_lexer": "ipython3",
   "version": "3.10.12"
  }
 },
 "nbformat": 4,
 "nbformat_minor": 5
}
